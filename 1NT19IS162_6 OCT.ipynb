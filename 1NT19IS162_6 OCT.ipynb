{
 "cells": [
  {
   "cell_type": "code",
   "execution_count": 8,
   "id": "aee86c3b",
   "metadata": {},
   "outputs": [
    {
     "name": "stdout",
     "output_type": "stream",
     "text": [
      "mean: 3\n",
      "std deviation: 1.4142135623730951\n",
      "-1.414213562373095\n",
      "-0.7071067811865475\n",
      "0.0\n",
      "0.7071067811865475\n",
      "1.414213562373095\n"
     ]
    }
   ],
   "source": [
    "#standardization\n",
    "lis=[1,2,3,4,5]\n",
    "mean1=sum(lis)//len(lis)\n",
    "print(\"mean:\",mean1)\n",
    "var=0\n",
    "for i in lis:\n",
    "    var=var+(i-mean)**2\n",
    "    vari=var//n\n",
    "sd=vari**0.5\n",
    "print(\"std deviation:\",sd)\n",
    "for j in lis:\n",
    "    std=(j-mean1)/sd\n",
    "    print(std)"
   ]
  },
  {
   "cell_type": "code",
   "execution_count": 7,
   "id": "0e167339",
   "metadata": {},
   "outputs": [
    {
     "name": "stdout",
     "output_type": "stream",
     "text": [
      "minimum value is  1\n",
      "maximum value is  5\n",
      "0.0\n",
      "0.25\n",
      "0.5\n",
      "0.75\n",
      "1.0\n"
     ]
    }
   ],
   "source": [
    "#normalization\n",
    "lis=[1,2,3,4,5]\n",
    "mini=min(lis)\n",
    "print(\"minimum value is \",mini)\n",
    "maxi=max(lis)\n",
    "print(\"maximum value is \",maxi)\n",
    "for i in lis:\n",
    "    normal=(i-mini)/(maxi-mini)\n",
    "    print(normal)"
   ]
  },
  {
   "cell_type": "code",
   "execution_count": null,
   "id": "820e1b84",
   "metadata": {},
   "outputs": [],
   "source": []
  }
 ],
 "metadata": {
  "kernelspec": {
   "display_name": "Python 3 (ipykernel)",
   "language": "python",
   "name": "python3"
  },
  "language_info": {
   "codemirror_mode": {
    "name": "ipython",
    "version": 3
   },
   "file_extension": ".py",
   "mimetype": "text/x-python",
   "name": "python",
   "nbconvert_exporter": "python",
   "pygments_lexer": "ipython3",
   "version": "3.7.11"
  }
 },
 "nbformat": 4,
 "nbformat_minor": 5
}
