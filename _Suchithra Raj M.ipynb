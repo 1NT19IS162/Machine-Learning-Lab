{
 "cells": [
  {
   "cell_type": "code",
   "execution_count": 1,
   "id": "833b212d",
   "metadata": {},
   "outputs": [
    {
     "name": "stdout",
     "output_type": "stream",
     "text": [
      "hello world!\n"
     ]
    }
   ],
   "source": [
    "print(\"hello world!\")"
   ]
  },
  {
   "cell_type": "code",
   "execution_count": 2,
   "id": "b0243327",
   "metadata": {},
   "outputs": [
    {
     "name": "stdout",
     "output_type": "stream",
     "text": [
      "2\n"
     ]
    }
   ],
   "source": [
    "a=2;\n",
    "print(a)"
   ]
  },
  {
   "cell_type": "code",
   "execution_count": 3,
   "id": "ef050c61",
   "metadata": {},
   "outputs": [
    {
     "name": "stdout",
     "output_type": "stream",
     "text": [
      "7\n"
     ]
    }
   ],
   "source": [
    "a=2\n",
    "b=5\n",
    "c=a+b\n",
    "print(c)"
   ]
  },
  {
   "cell_type": "code",
   "execution_count": 5,
   "id": "b8b9fd0d",
   "metadata": {},
   "outputs": [
    {
     "name": "stdout",
     "output_type": "stream",
     "text": [
      "enter first number5\n",
      "enter second number5\n",
      "10\n"
     ]
    }
   ],
   "source": [
    "a=input(\"enter first number\")\n",
    "b=input(\"enter second number\")\n",
    "c=int(a)+int(b)\n",
    "print(c)"
   ]
  },
  {
   "cell_type": "code",
   "execution_count": 10,
   "id": "86720cde",
   "metadata": {},
   "outputs": [
    {
     "name": "stdout",
     "output_type": "stream",
     "text": [
      "a is: 20\n",
      "b is: 10\n"
     ]
    }
   ],
   "source": [
    "a=10\n",
    "b=20\n",
    "c=a\n",
    "a=b\n",
    "b=c\n",
    "print(\"a is:\",a)\n",
    "print(\"b is:\",b)"
   ]
  },
  {
   "cell_type": "code",
   "execution_count": 16,
   "id": "1b8b0dd6",
   "metadata": {},
   "outputs": [
    {
     "name": "stdout",
     "output_type": "stream",
     "text": [
      "element found at: 4\n"
     ]
    }
   ],
   "source": [
    "def linearsearch(arr,n,x):\n",
    "    for i in range(0,n):\n",
    "        if(arr[i]==x):\n",
    "            return i\n",
    "    return -1\n",
    "    \n",
    "    \n",
    "arr=[1,7,3,2,8,9]\n",
    "x=8\n",
    "n=len(arr)\n",
    "r=linearsearch(arr,n,x)\n",
    "if(r==-1):\n",
    "    print(\"element not found\")\n",
    "else:\n",
    "    print(\"element found at:\",r)\n",
    "   \n",
    "        \n",
    "   "
   ]
  },
  {
   "cell_type": "code",
   "execution_count": 34,
   "id": "1a116990",
   "metadata": {},
   "outputs": [
    {
     "name": "stdout",
     "output_type": "stream",
     "text": [
      "enter numbers1 2 3\n",
      "1\n",
      "2\n",
      "3\n"
     ]
    }
   ],
   "source": [
    "x, y, z = input(\"enter numbers\").split()\n",
    "print(x)\n",
    "print(y)\n",
    "print(z)"
   ]
  },
  {
   "cell_type": "code",
   "execution_count": 35,
   "id": "dccafeaf",
   "metadata": {},
   "outputs": [
    {
     "name": "stdout",
     "output_type": "stream",
     "text": [
      "Element is present at index 3\n"
     ]
    }
   ],
   "source": [
    "def binary_search(arr, low, high, x):\n",
    " \n",
    "  \n",
    "    if high >= low:\n",
    " \n",
    "        mid = (high + low) // 2\n",
    " \n",
    "        \n",
    "        if arr[mid] == x:\n",
    "            return mid\n",
    " \n",
    "        elif arr[mid] > x:\n",
    "            return binary_search(arr, low, mid - 1, x)\n",
    " \n",
    "        else:\n",
    "            return binary_search(arr, mid + 1, high, x)\n",
    " \n",
    "    else:\n",
    "        return -1\n",
    " \n",
    "\n",
    "arr = [ 2, 3, 4, 10, 40 ]\n",
    "x = 10 \n",
    "result = binary_search(arr, 0, len(arr)-1, x)\n",
    "if result != -1:\n",
    "    print(\"Element is present at index\", str(result))\n",
    "else:\n",
    "    print(\"Element is not present in array\")"
   ]
  },
  {
   "cell_type": "code",
   "execution_count": 23,
   "id": "354839ef",
   "metadata": {},
   "outputs": [
    {
     "name": "stdout",
     "output_type": "stream",
     "text": [
      "[-1, 7, 9, 9, 12]\n"
     ]
    }
   ],
   "source": [
    "def selectionsort(arr,size):\n",
    "    for i in range(size):\n",
    "        mini=i;\n",
    "        \n",
    "        for j in range(i+1,size):\n",
    "            if arr[j]<arr[mini]:\n",
    "                mini=j\n",
    "        (arr[i],arr[mini])=(arr[mini],arr[i])\n",
    "        \n",
    "arr=[12,9,-1,7,9]\n",
    "s=len(arr)\n",
    "selectionsort(arr,s)\n",
    "print(arr)"
   ]
  },
  {
   "cell_type": "code",
   "execution_count": 29,
   "id": "fbb81f33",
   "metadata": {},
   "outputs": [],
   "source": [
    "f=open(\"suchithra.txt\",\"w+\")"
   ]
  },
  {
   "cell_type": "code",
   "execution_count": 30,
   "id": "286468aa",
   "metadata": {},
   "outputs": [],
   "source": [
    "for i in range(100):\n",
    "    f.write(\"this is suchithra %d \\n\" % (i+1))"
   ]
  },
  {
   "cell_type": "code",
   "execution_count": 31,
   "id": "645ba610",
   "metadata": {},
   "outputs": [],
   "source": [
    "f.close()"
   ]
  },
  {
   "cell_type": "code",
   "execution_count": 32,
   "id": "6a291ad4",
   "metadata": {},
   "outputs": [
    {
     "name": "stdout",
     "output_type": "stream",
     "text": [
      "this is suchithra 1\n",
      "this is suchithra 2\n",
      "this is suchithra 3\n",
      "this is suchithra 4\n",
      "this is suchithra 5\n",
      "this is suchithra 6\n",
      "this is suchithra 7\n",
      "this is suchithra 8\n",
      "this is suchithra 9\n",
      "this is suchithra 10\n",
      "this is suchithra 11\n",
      "this is suchithra 12\n",
      "this is suchithra 13\n",
      "this is suchithra 14\n",
      "this is suchithra 15\n",
      "this is suchithra 16\n",
      "this is suchithra 17\n",
      "this is suchithra 18\n",
      "this is suchithra 19\n",
      "this is suchithra 20\n",
      "this is suchithra 21\n",
      "this is suchithra 22\n",
      "this is suchithra 23\n",
      "this is suchithra 24\n",
      "this is suchithra 25\n",
      "this is suchithra 26\n",
      "this is suchithra 27\n",
      "this is suchithra 28\n",
      "this is suchithra 29\n",
      "this is suchithra 30\n",
      "this is suchithra 31\n",
      "this is suchithra 32\n",
      "this is suchithra 33\n",
      "this is suchithra 34\n",
      "this is suchithra 35\n",
      "this is suchithra 36\n",
      "this is suchithra 37\n",
      "this is suchithra 38\n",
      "this is suchithra 39\n",
      "this is suchithra 40\n",
      "this is suchithra 41\n",
      "this is suchithra 42\n",
      "this is suchithra 43\n",
      "this is suchithra 44\n",
      "this is suchithra 45\n",
      "this is suchithra 46\n",
      "this is suchithra 47\n",
      "this is suchithra 48\n",
      "this is suchithra 49\n",
      "this is suchithra 50\n",
      "this is suchithra 51\n",
      "this is suchithra 52\n",
      "this is suchithra 53\n",
      "this is suchithra 54\n",
      "this is suchithra 55\n",
      "this is suchithra 56\n",
      "this is suchithra 57\n",
      "this is suchithra 58\n",
      "this is suchithra 59\n",
      "this is suchithra 60\n",
      "this is suchithra 61\n",
      "this is suchithra 62\n",
      "this is suchithra 63\n",
      "this is suchithra 64\n",
      "this is suchithra 65\n",
      "this is suchithra 66\n",
      "this is suchithra 67\n",
      "this is suchithra 68\n",
      "this is suchithra 69\n",
      "this is suchithra 70\n",
      "this is suchithra 71\n",
      "this is suchithra 72\n",
      "this is suchithra 73\n",
      "this is suchithra 74\n",
      "this is suchithra 75\n",
      "this is suchithra 76\n",
      "this is suchithra 77\n",
      "this is suchithra 78\n",
      "this is suchithra 79\n",
      "this is suchithra 80\n",
      "this is suchithra 81\n",
      "this is suchithra 82\n",
      "this is suchithra 83\n",
      "this is suchithra 84\n",
      "this is suchithra 85\n",
      "this is suchithra 86\n",
      "this is suchithra 87\n",
      "this is suchithra 88\n",
      "this is suchithra 89\n",
      "this is suchithra 90\n",
      "this is suchithra 91\n",
      "this is suchithra 92\n",
      "this is suchithra 93\n",
      "this is suchithra 94\n",
      "this is suchithra 95\n",
      "this is suchithra 96\n",
      "this is suchithra 97\n",
      "this is suchithra 98\n",
      "this is suchithra 99\n",
      "this is suchithra 100\n",
      "\n"
     ]
    }
   ],
   "source": [
    "f=open(\"suchithra.txt\",\"r\")\n",
    "print(f.read())"
   ]
  },
  {
   "cell_type": "code",
   "execution_count": 2,
   "id": "fa5ca06b",
   "metadata": {},
   "outputs": [
    {
     "name": "stdout",
     "output_type": "stream",
     "text": [
      "2.5\n"
     ]
    }
   ],
   "source": [
    "#means\n",
    "def Mean(nums):\n",
    "    size = len(nums)\n",
    "    \n",
    "    sum = 0\n",
    "    for i in nums:\n",
    "        sum += i\n",
    "        \n",
    "        mean = sum/size\n",
    "    return mean\n",
    "    \n",
    "nums=[1,2,3,4]\n",
    "print(Mean(nums)) "
   ]
  },
  {
   "cell_type": "code",
   "execution_count": 13,
   "id": "8b47a303",
   "metadata": {},
   "outputs": [
    {
     "name": "stdout",
     "output_type": "stream",
     "text": [
      "index is: 2\n",
      "3.5\n"
     ]
    }
   ],
   "source": [
    "#MEDIAN\n",
    "def Medianfun(num):\n",
    "    n=len(num)\n",
    "    index=n//2\n",
    "    print(\"index is:\",index)\n",
    "    if n%2:\n",
    "        return sorted(num)[index]\n",
    "    return sum(sorted(num)[index-1:index+1])/2\n",
    "\n",
    "num=[3,5,1,4]\n",
    "print(Medianfun(num))"
   ]
  },
  {
   "cell_type": "code",
   "execution_count": 17,
   "id": "d246446f",
   "metadata": {},
   "outputs": [
    {
     "name": "stdout",
     "output_type": "stream",
     "text": [
      "2\n"
     ]
    }
   ],
   "source": [
    "#mode\n",
    "def Modefun(numb):\n",
    "    freq={}\n",
    "    for i in numb:\n",
    "        freq.setdefault(i,0)\n",
    "        freq[i]+=1\n",
    "    maxi=max(freq.values())\n",
    "    print(maxi)\n",
    "numb=[1,2,2,3,4]\n",
    "Modefun(numb)"
   ]
  },
  {
   "cell_type": "code",
   "execution_count": 33,
   "id": "acae65f1",
   "metadata": {},
   "outputs": [
    {
     "name": "stdout",
     "output_type": "stream",
     "text": [
      "6.0\n",
      "2.449489742783178\n"
     ]
    }
   ],
   "source": [
    "def Mean(lis):\n",
    "    size = len(lis)\n",
    "    \n",
    "    sum = 0\n",
    "    for i in lis:\n",
    "        sum += i\n",
    "        \n",
    "        mean = sum/size\n",
    "    return mean\n",
    "lis=[1,2,3,4,5,6,7,8,9]\n",
    "n=len(lis)\n",
    "mean=Mean(lis)\n",
    "var=0\n",
    "for i in lis:\n",
    "    var=var+(i-mean)**2\n",
    "    vari=var//n\n",
    "print(vari)\n",
    "sd=vari**0.5\n",
    "print(sd)"
   ]
  },
  {
   "cell_type": "code",
   "execution_count": null,
   "id": "0c563b72",
   "metadata": {},
   "outputs": [],
   "source": []
  }
 ],
 "metadata": {
  "kernelspec": {
   "display_name": "Python 3 (ipykernel)",
   "language": "python",
   "name": "python3"
  },
  "language_info": {
   "codemirror_mode": {
    "name": "ipython",
    "version": 3
   },
   "file_extension": ".py",
   "mimetype": "text/x-python",
   "name": "python",
   "nbconvert_exporter": "python",
   "pygments_lexer": "ipython3",
   "version": "3.7.11"
  }
 },
 "nbformat": 4,
 "nbformat_minor": 5
}
