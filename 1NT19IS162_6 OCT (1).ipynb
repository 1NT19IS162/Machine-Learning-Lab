{
 "cells": [
  {
   "cell_type": "code",
   "execution_count": 8,
   "id": "aee86c3b",
   "metadata": {},
   "outputs": [
    {
     "name": "stdout",
     "output_type": "stream",
     "text": [
      "mean: 3\n",
      "std deviation: 1.4142135623730951\n",
      "-1.414213562373095\n",
      "-0.7071067811865475\n",
      "0.0\n",
      "0.7071067811865475\n",
      "1.414213562373095\n"
     ]
    }
   ],
   "source": [
    "#standardization\n",
    "lis=[1,2,3,4,5]\n",
    "mean1=sum(lis)//len(lis)\n",
    "print(\"mean:\",mean1)\n",
    "var=0\n",
    "for i in lis:\n",
    "    var=var+(i-mean1)**2\n",
    "    vari=var//n\n",
    "sd=vari**0.5\n",
    "print(\"std deviation:\",sd)\n",
    "for j in lis:\n",
    "    std=(j-mean1)/sd\n",
    "    print(std)"
   ]
  },
  {
   "cell_type": "code",
   "execution_count": 7,
   "id": "0e167339",
   "metadata": {},
   "outputs": [
    {
     "name": "stdout",
     "output_type": "stream",
     "text": [
      "minimum value is  1\n",
      "maximum value is  5\n",
      "0.0\n",
      "0.25\n",
      "0.5\n",
      "0.75\n",
      "1.0\n"
     ]
    }
   ],
   "source": [
    "#normalization\n",
    "lis=[1,2,3,4,5]\n",
    "mini=min(lis)\n",
    "print(\"minimum value is \",mini)\n",
    "maxi=max(lis)\n",
    "print(\"maximum value is \",maxi)\n",
    "for i in lis:\n",
    "    normal=(i-mini)/(maxi-mini)\n",
    "    print(normal)"
   ]
  },
  {
   "cell_type": "code",
   "execution_count": 14,
   "id": "820e1b84",
   "metadata": {},
   "outputs": [
    {
     "data": {
      "text/plain": [
       "[['slno', 'name', 'usn', 'sem', 'cgpa'],\n",
       " ['1', 'murali', '1234', '7', '9'],\n",
       " ['2', 'shiva', '1235', '4', '8'],\n",
       " ['3', 'sudha', '1236', '8', '7.8'],\n",
       " ['4', 'leela', '1237', '7', '9.5'],\n",
       " ['5', 'nandini', '1238', '4', '9.8']]"
      ]
     },
     "execution_count": 14,
     "metadata": {},
     "output_type": "execute_result"
    }
   ],
   "source": [
    "import csv\n",
    "file=open('/home/admn/Documents/suchithra.csv')\n",
    "csvreader=csv.reader(file)\n",
    "row=[]\n",
    "for i in csvreader:\n",
    "    row.append(i)\n",
    "row\n"
   ]
  },
  {
   "cell_type": "code",
   "execution_count": 15,
   "id": "77e87a8b",
   "metadata": {},
   "outputs": [],
   "source": [
    "file.close()"
   ]
  },
  {
   "cell_type": "code",
   "execution_count": 16,
   "id": "24cee945",
   "metadata": {},
   "outputs": [
    {
     "data": {
      "text/plain": [
       "0    9.0\n",
       "1    8.0\n",
       "2    7.8\n",
       "3    9.5\n",
       "4    9.8\n",
       "Name: cgpa, dtype: float64"
      ]
     },
     "execution_count": 16,
     "metadata": {},
     "output_type": "execute_result"
    }
   ],
   "source": [
    "import pandas as pd\n",
    "data=pd.read_csv('/home/admn/Documents/suchithra.csv')\n",
    "data.cgpa"
   ]
  },
  {
   "cell_type": "code",
   "execution_count": null,
   "id": "b7819bea",
   "metadata": {},
   "outputs": [],
   "source": []
  }
 ],
 "metadata": {
  "kernelspec": {
   "display_name": "Python 3 (ipykernel)",
   "language": "python",
   "name": "python3"
  },
  "language_info": {
   "codemirror_mode": {
    "name": "ipython",
    "version": 3
   },
   "file_extension": ".py",
   "mimetype": "text/x-python",
   "name": "python",
   "nbconvert_exporter": "python",
   "pygments_lexer": "ipython3",
   "version": "3.7.11"
  }
 },
 "nbformat": 4,
 "nbformat_minor": 5
}
